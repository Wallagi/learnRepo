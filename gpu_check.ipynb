{
 "cells": [
  {
   "cell_type": "code",
   "execution_count": 1,
   "id": "aging-sunday",
   "metadata": {
    "colab": {
     "base_uri": "https://localhost:8080/"
    },
    "executionInfo": {
     "elapsed": 5,
     "status": "ok",
     "timestamp": 1665428031997,
     "user": {
      "displayName": "Hadar Pinhas",
      "userId": "05697601689303667205"
     },
     "user_tz": -180
    },
    "id": "aging-sunday",
    "outputId": "dfc6a484-a538-4ee5-eef1-296a8cdc249c"
   },
   "outputs": [
    {
     "data": {
      "text/plain": [
       "2"
      ]
     },
     "execution_count": 1,
     "metadata": {},
     "output_type": "execute_result"
    }
   ],
   "source": [
    "1+1"
   ]
  },
  {
   "cell_type": "code",
   "execution_count": 3,
   "id": "damaged-textbook",
   "metadata": {
    "executionInfo": {
     "elapsed": 2683,
     "status": "ok",
     "timestamp": 1665428038306,
     "user": {
      "displayName": "Hadar Pinhas",
      "userId": "05697601689303667205"
     },
     "user_tz": -180
    },
    "id": "damaged-textbook"
   },
   "outputs": [],
   "source": [
    "import tensorflow as tf"
   ]
  },
  {
   "cell_type": "code",
   "execution_count": 4,
   "id": "material-broad",
   "metadata": {
    "colab": {
     "base_uri": "https://localhost:8080/"
    },
    "executionInfo": {
     "elapsed": 564,
     "status": "ok",
     "timestamp": 1665428040044,
     "user": {
      "displayName": "Hadar Pinhas",
      "userId": "05697601689303667205"
     },
     "user_tz": -180
    },
    "id": "material-broad",
    "outputId": "70d4be35-8c0e-482d-cbea-19881951e66b"
   },
   "outputs": [
    {
     "name": "stdout",
     "output_type": "stream",
     "text": [
      "Num GPUs available:  1\n"
     ]
    }
   ],
   "source": [
    "physical_devices = tf.config.experimental.list_physical_devices('GPU')\n",
    "print('Num GPUs available: ', len(physical_devices))"
   ]
  },
  {
   "cell_type": "code",
   "execution_count": 5,
   "id": "modified-buyer",
   "metadata": {
    "id": "modified-buyer",
    "outputId": "3f6a37e0-0f92-4c4b-8f31-260c18e98856"
   },
   "outputs": [
    {
     "name": "stdout",
     "output_type": "stream",
     "text": [
      "100000000\n"
     ]
    }
   ],
   "source": [
    "k=0\n",
    "for i in range(10**8):\n",
    "    k+=1\n",
    "print(k)"
   ]
  },
  {
   "cell_type": "code",
   "execution_count": 6,
   "id": "grateful-leather",
   "metadata": {
    "colab": {
     "base_uri": "https://localhost:8080/",
     "height": 588
    },
    "executionInfo": {
     "elapsed": 1328,
     "status": "error",
     "timestamp": 1665428075033,
     "user": {
      "displayName": "Hadar Pinhas",
      "userId": "05697601689303667205"
     },
     "user_tz": -180
    },
    "id": "grateful-leather",
    "outputId": "0140fa15-7062-4e33-b0b0-40a7bdde574e"
   },
   "outputs": [
    {
     "ename": "ModuleNotFoundError",
     "evalue": "No module named 'numba'",
     "output_type": "error",
     "traceback": [
      "\u001b[1;31m---------------------------------------------------------------------------\u001b[0m",
      "\u001b[1;31mModuleNotFoundError\u001b[0m                       Traceback (most recent call last)",
      "Cell \u001b[1;32mIn [6], line 1\u001b[0m\n\u001b[1;32m----> 1\u001b[0m \u001b[38;5;28;01mfrom\u001b[39;00m \u001b[38;5;21;01mnumba\u001b[39;00m \u001b[38;5;28;01mimport\u001b[39;00m cuda\n\u001b[0;32m      2\u001b[0m cuda\u001b[38;5;241m.\u001b[39mdetect()\n",
      "\u001b[1;31mModuleNotFoundError\u001b[0m: No module named 'numba'"
     ]
    }
   ],
   "source": [
    "from numba import cuda\n",
    "cuda.detect()"
   ]
  },
  {
   "cell_type": "code",
   "execution_count": 7,
   "id": "matched-chain",
   "metadata": {
    "colab": {
     "base_uri": "https://localhost:8080/"
    },
    "executionInfo": {
     "elapsed": 300,
     "status": "ok",
     "timestamp": 1665428086400,
     "user": {
      "displayName": "Hadar Pinhas",
      "userId": "05697601689303667205"
     },
     "user_tz": -180
    },
    "id": "matched-chain",
    "outputId": "a73e89fd-57b9-4cb7-fe88-e9a0b28e0e9e"
   },
   "outputs": [
    {
     "data": {
      "text/plain": [
       "True"
      ]
     },
     "execution_count": 7,
     "metadata": {},
     "output_type": "execute_result"
    }
   ],
   "source": [
    "tf.test.is_built_with_cuda()"
   ]
  },
  {
   "cell_type": "code",
   "execution_count": 8,
   "id": "portuguese-samoa",
   "metadata": {
    "colab": {
     "base_uri": "https://localhost:8080/"
    },
    "executionInfo": {
     "elapsed": 279,
     "status": "ok",
     "timestamp": 1665428096974,
     "user": {
      "displayName": "Hadar Pinhas",
      "userId": "05697601689303667205"
     },
     "user_tz": -180
    },
    "id": "portuguese-samoa",
    "outputId": "701146fe-9e0e-4da9-e0fd-abc2178d5748"
   },
   "outputs": [
    {
     "name": "stdout",
     "output_type": "stream",
     "text": [
      "1\n"
     ]
    }
   ],
   "source": [
    "with tf.compat.v1.Session() as sess:\n",
    "    print(1)"
   ]
  },
  {
   "cell_type": "code",
   "execution_count": 9,
   "id": "yellow-beast",
   "metadata": {
    "colab": {
     "base_uri": "https://localhost:8080/",
     "height": 35
    },
    "executionInfo": {
     "elapsed": 283,
     "status": "ok",
     "timestamp": 1665428100565,
     "user": {
      "displayName": "Hadar Pinhas",
      "userId": "05697601689303667205"
     },
     "user_tz": -180
    },
    "id": "yellow-beast",
    "outputId": "f06b9297-6049-4327-ab16-24587d796ac1"
   },
   "outputs": [
    {
     "data": {
      "text/plain": [
       "'/device:GPU:0'"
      ]
     },
     "execution_count": 9,
     "metadata": {},
     "output_type": "execute_result"
    }
   ],
   "source": [
    "tf.test.gpu_device_name()"
   ]
  },
  {
   "cell_type": "code",
   "execution_count": 10,
   "id": "august-potential",
   "metadata": {
    "colab": {
     "base_uri": "https://localhost:8080/"
    },
    "executionInfo": {
     "elapsed": 269,
     "status": "ok",
     "timestamp": 1665428113624,
     "user": {
      "displayName": "Hadar Pinhas",
      "userId": "05697601689303667205"
     },
     "user_tz": -180
    },
    "id": "august-potential",
    "outputId": "692d1077-bfe6-4e6b-848b-757f33ac24aa"
   },
   "outputs": [
    {
     "data": {
      "text/plain": [
       "[_DeviceAttributes(/job:localhost/replica:0/task:0/device:CPU:0, CPU, 268435456, -1567046771769616262),\n",
       " _DeviceAttributes(/job:localhost/replica:0/task:0/device:GPU:0, GPU, 2255906407, 2386354189704751009)]"
      ]
     },
     "execution_count": 10,
     "metadata": {},
     "output_type": "execute_result"
    }
   ],
   "source": [
    "with tf.compat.v1.Session() as sess:\n",
    "    devices = sess.list_devices()\n",
    "devices"
   ]
  },
  {
   "cell_type": "code",
   "execution_count": 11,
   "id": "athletic-director",
   "metadata": {
    "colab": {
     "base_uri": "https://localhost:8080/"
    },
    "executionInfo": {
     "elapsed": 7570,
     "status": "ok",
     "timestamp": 1665428148630,
     "user": {
      "displayName": "Hadar Pinhas",
      "userId": "05697601689303667205"
     },
     "user_tz": -180
    },
    "id": "athletic-director",
    "outputId": "793db8ce-3ba7-4b5f-cc2c-4f1bddf7ec74"
   },
   "outputs": [
    {
     "name": "stdout",
     "output_type": "stream",
     "text": [
      "100000000\n"
     ]
    }
   ],
   "source": [
    "with tf.compat.v1.device('/gpu:0'):\n",
    "    a = tf.constant([1.0, 2.0, 3.0, 4.0, 5.0, 6.0], shape=[2, 3], name='a')\n",
    "    b = tf.constant([1.0, 2.0, 3.0, 4.0, 5.0, 6.0], shape=[3, 2], name='b')\n",
    "    c = tf.matmul(a, b)\n",
    "\n",
    "with tf.compat.v1.Session() as sess:\n",
    "    for i in range(10**8):\n",
    "        i+=1\n",
    "    print(i)"
   ]
  },
  {
   "cell_type": "code",
   "execution_count": 12,
   "id": "pending-catering",
   "metadata": {
    "colab": {
     "base_uri": "https://localhost:8080/"
    },
    "executionInfo": {
     "elapsed": 261,
     "status": "ok",
     "timestamp": 1665428153418,
     "user": {
      "displayName": "Hadar Pinhas",
      "userId": "05697601689303667205"
     },
     "user_tz": -180
    },
    "id": "pending-catering",
    "outputId": "e605ef18-1ce0-46b9-d646-158638cffe4c"
   },
   "outputs": [
    {
     "name": "stdout",
     "output_type": "stream",
     "text": [
      "Device mapping:\n",
      "/job:localhost/replica:0/task:0/device:GPU:0 -> device: 0, name: NVIDIA GeForce GTX 1650, pci bus id: 0000:01:00.0, compute capability: 7.5\n",
      "\n"
     ]
    }
   ],
   "source": [
    "sess = tf.compat.v1.Session(config=tf.compat.v1.ConfigProto(log_device_placement=True)) "
   ]
  },
  {
   "cell_type": "code",
   "execution_count": null,
   "id": "superb-manchester",
   "metadata": {
    "id": "superb-manchester"
   },
   "outputs": [],
   "source": []
  }
 ],
 "metadata": {
  "colab": {
   "provenance": []
  },
  "kernelspec": {
   "display_name": "Python 3 (ipykernel)",
   "language": "python",
   "name": "python3"
  },
  "language_info": {
   "codemirror_mode": {
    "name": "ipython",
    "version": 3
   },
   "file_extension": ".py",
   "mimetype": "text/x-python",
   "name": "python",
   "nbconvert_exporter": "python",
   "pygments_lexer": "ipython3",
   "version": "3.9.9"
  },
  "varInspector": {
   "cols": {
    "lenName": 16,
    "lenType": 16,
    "lenVar": 40
   },
   "kernels_config": {
    "python": {
     "delete_cmd_postfix": "",
     "delete_cmd_prefix": "del ",
     "library": "var_list.py",
     "varRefreshCmd": "print(var_dic_list())"
    },
    "r": {
     "delete_cmd_postfix": ") ",
     "delete_cmd_prefix": "rm(",
     "library": "var_list.r",
     "varRefreshCmd": "cat(var_dic_list()) "
    }
   },
   "types_to_exclude": [
    "module",
    "function",
    "builtin_function_or_method",
    "instance",
    "_Feature"
   ],
   "window_display": false
  }
 },
 "nbformat": 4,
 "nbformat_minor": 5
}
