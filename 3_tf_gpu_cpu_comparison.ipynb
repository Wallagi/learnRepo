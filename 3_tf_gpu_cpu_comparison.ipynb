{
 "cells": [
  {
   "cell_type": "markdown",
   "id": "neural-nitrogen",
   "metadata": {},
   "source": [
    "# CPU/GPU Comparisons"
   ]
  },
  {
   "cell_type": "code",
   "execution_count": 1,
   "id": "defensive-cambridge",
   "metadata": {},
   "outputs": [
    {
     "name": "stdout",
     "output_type": "stream",
     "text": [
      "1 Physical GPUs, 1 Logical GPUs\n",
      "TF will attempt to allocate only as much GPU memory as needed for the runtime allocations\n"
     ]
    }
   ],
   "source": [
    "import tensorflow as tf\n",
    "gpus = tf.config.list_physical_devices('GPU')\n",
    "if gpus:\n",
    "  try:\n",
    "    # Currently, memory growth needs to be the same across GPUs\n",
    "    for gpu in gpus:\n",
    "      tf.config.experimental.set_memory_growth(gpu, True)\n",
    "    logical_gpus = tf.config.experimental.list_logical_devices('GPU')\n",
    "    print(len(gpus), \"Physical GPUs,\", len(logical_gpus), \"Logical GPUs\")\n",
    "  except RuntimeError as e:\n",
    "    # Memory growth must be set before GPUs have been initialized\n",
    "    print(e)\n",
    "print(\"TF will attempt to allocate only as much GPU memory as needed for the runtime allocations\")"
   ]
  },
  {
   "cell_type": "markdown",
   "id": "continent-liabilities",
   "metadata": {},
   "source": [
    "## Matrix Multiplication Example"
   ]
  },
  {
   "cell_type": "code",
   "execution_count": 4,
   "id": "native-research",
   "metadata": {},
   "outputs": [
    {
     "name": "stdout",
     "output_type": "stream",
     "text": [
      "Time to multiply a (200, 200) matrix by itself 10000 times:\n",
      "CPU: 3.5832245349884033 secs\n",
      "GPU: 0.9370095729827881 secs\n",
      "GPU speedup over CPU: 3x\n"
     ]
    }
   ],
   "source": [
    "import time\n",
    "\n",
    "def measure(x, steps):\n",
    "    # TensorFlow initializes a GPU the first time it's used, exclude from timing.\n",
    "    tf.matmul(x, x)\n",
    "    start = time.time()\n",
    "    for i in range(steps):\n",
    "        x = tf.matmul(x, x)\n",
    "    # tf.matmul can return before completing the matrix multiplication\n",
    "    # (e.g., can return after enqueing the operation on a CUDA stream).\n",
    "    # The x.numpy() call below will ensure that all enqueued operations\n",
    "    # have completed (and will also copy the result to host memory,\n",
    "    # so we're including a little more than just the matmul operation time).\n",
    "    _ = x.numpy()\n",
    "    end = time.time()\n",
    "    return end - start\n",
    "\n",
    "shape = (200, 200)\n",
    "steps = 10000\n",
    "print(\"Time to multiply a {} matrix by itself {} times:\".format(shape, steps))\n",
    "\n",
    "# Run on CPU:\n",
    "with tf.device(\"/cpu:0\"):\n",
    "    cpu_time1 = measure(tf.random.normal(shape), steps)\n",
    "    print(\"CPU: {} secs\".format(cpu_time1))\n",
    "\n",
    "# Run on GPU, if available:\n",
    "if tf.config.list_physical_devices(\"GPU\"):\n",
    "    with tf.device(\"/gpu:1\"):\n",
    "        gpu_time1 = measure(tf.random.normal(shape), steps)\n",
    "        print(\"GPU: {} secs\".format(gpu_time1))\n",
    "else:\n",
    "    print(\"GPU: not found\")\n",
    "\n",
    "print('GPU speedup over CPU: {}x'.format(int(cpu_time1/gpu_time1)))"
   ]
  },
  {
   "cell_type": "markdown",
   "id": "lasting-reconstruction",
   "metadata": {},
   "source": [
    "## Spatial Convolution Over Images Example\n",
    "Comparison of time needed to execute a [conv2d](https://www.tensorflow.org/api_docs/python/tf/keras/layers/Conv2D) operation via CPU and GPU. This code started from the TF1 [gist here](https://gist.github.com/pdmack/890aa355eefb92072fc1776b7e959696)."
   ]
  },
  {
   "cell_type": "code",
   "execution_count": 5,
   "id": "recorded-wallet",
   "metadata": {},
   "outputs": [
    {
     "name": "stdout",
     "output_type": "stream",
     "text": [
      "30 loops of convolve 32x7x7x3 filter over random 100x100x100x3 images:\n",
      "CPU: 2.4716558000000077\n",
      "GPU: 0.6768585000000087\n",
      "GPU speedup over CPU: 3x\n"
     ]
    }
   ],
   "source": [
    "import timeit\n",
    "tf.config.run_functions_eagerly(True)\n",
    "\n",
    "@tf.function\n",
    "def conv_fn():\n",
    "    image = tf.random.normal((100, 100, 100, 3))\n",
    "    net = tf.keras.layers.Conv2D(32, 7)(image)\n",
    "    return tf.reduce_sum(net)\n",
    "\n",
    "# warm up\n",
    "conv_fn()\n",
    "\n",
    "print(\"30 loops of convolve 32x7x7x3 filter over random 100x100x100x3 images:\")\n",
    "with tf.device(\"/cpu:0\"):\n",
    "    cpu_time2 = timeit.timeit(lambda: conv_fn(), number=30)\n",
    "    print(\"CPU:\", cpu_time2)\n",
    "if tf.config.list_physical_devices(\"GPU\"):\n",
    "    with tf.device(\"/gpu:0\"):\n",
    "        gpu_time2 = timeit.timeit(lambda: conv_fn(), number=30)\n",
    "        print(\"GPU:\", gpu_time2)\n",
    "else:\n",
    "    print(\"GPU: not found\")\n",
    "    \n",
    "print('GPU speedup over CPU: {}x'.format(int(cpu_time2/gpu_time2)))"
   ]
  },
  {
   "cell_type": "code",
   "execution_count": null,
   "id": "76123347",
   "metadata": {},
   "outputs": [],
   "source": []
  }
 ],
 "metadata": {
  "kernelspec": {
   "display_name": "Python 3 (ipykernel)",
   "language": "python",
   "name": "python3"
  },
  "language_info": {
   "codemirror_mode": {
    "name": "ipython",
    "version": 3
   },
   "file_extension": ".py",
   "mimetype": "text/x-python",
   "name": "python",
   "nbconvert_exporter": "python",
   "pygments_lexer": "ipython3",
   "version": "3.9.9"
  }
 },
 "nbformat": 4,
 "nbformat_minor": 5
}
